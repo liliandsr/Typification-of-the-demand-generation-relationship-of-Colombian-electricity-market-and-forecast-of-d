{
 "cells": [
  {
   "cell_type": "code",
   "execution_count": 1,
   "metadata": {},
   "outputs": [],
   "source": [
    "# Leer la base de datos de la demanda\n",
    "import pandas as pd\n",
    "import numpy as np\n",
    "Dem = pd.read_excel('TablaDemanda.xlsx')"
   ]
  },
  {
   "cell_type": "code",
   "execution_count": 2,
   "metadata": {},
   "outputs": [],
   "source": [
    "# Cambiar la variable categorica a numeros.\n",
    "Dem.Dia_de_la_semana = Dem.Dia_de_la_semana.replace({'lunes': 1, 'martes': 2, 'miércoles': 3, 'jueves': 4, \n",
    "                                                     'viernes': 5, 'sábado': 6, 'domingo': 7})"
   ]
  },
  {
   "cell_type": "code",
   "execution_count": 3,
   "metadata": {},
   "outputs": [
    {
     "data": {
      "text/plain": [
       "Index(['dia', 'mes', 'Dia_de_la_semana', 'Cluster_Nuevo', 'Demanda_X0',\n",
       "       'Demanda_X1', 'Demanda_X2', 'Demanda_X3', 'Demanda_X4', 'Demanda_X5',\n",
       "       'Demanda_X6', 'Demanda_X7', 'Demanda_X8', 'Demanda_X9', 'Demanda_X10',\n",
       "       'Demanda_X11', 'Demanda_X12', 'Demanda_X13', 'Demanda_X14',\n",
       "       'Demanda_X15', 'Demanda_X16', 'Demanda_X17', 'Demanda_X18',\n",
       "       'Demanda_X19', 'Demanda_X20', 'Demanda_X21', 'Demanda_X22',\n",
       "       'Demanda_X23'],\n",
       "      dtype='object')"
      ]
     },
     "execution_count": 3,
     "metadata": {},
     "output_type": "execute_result"
    }
   ],
   "source": [
    "# Observar las columnas de los datos\n",
    "Dem.columns"
   ]
  },
  {
   "cell_type": "code",
   "execution_count": 4,
   "metadata": {},
   "outputs": [],
   "source": [
    "# Arreglar un problema de escritura\n",
    "Dem = Dem.rename(columns = {'Cluster_Nuevo ':'Cluster_Nuevo'})"
   ]
  },
  {
   "cell_type": "code",
   "execution_count": 5,
   "metadata": {},
   "outputs": [],
   "source": [
    "# Separar los datos para entrenamiento y los valores de test.\n",
    "data = Dem[['dia', 'mes', 'Cluster_Nuevo', 'Demanda_X0', 'Demanda_X1',\n",
    "       'Demanda_X2', 'Demanda_X3']]\n",
    "r1 = Dem[['Demanda_X5']]\n",
    "r2 = Dem[['Demanda_X10']]\n",
    "r3 = Dem[['Demanda_X18']]\n",
    "r4 = Dem[['Demanda_X21']]\n",
    "r5 = Dem[['Demanda_X23']]"
   ]
  },
  {
   "cell_type": "markdown",
   "metadata": {},
   "source": [
    "### Analisis por horas"
   ]
  },
  {
   "cell_type": "code",
   "execution_count": 6,
   "metadata": {},
   "outputs": [],
   "source": [
    "# Separa los datos en train y test.\n",
    "#from sklearn.model_selection import train_test_split\n",
    "#X_train, X_test, y_train1, y_test1, y_train2, y_test2, y_train3 , y_test3, y_train4, y_test4, y_train5, y_test5 = train_test_split(data, r1, r2,\n",
    "                        #r3, r4, r5, test_size=0.25, random_state=1)\n",
    "X_train=data[0:274]\n",
    "X_test= data[274:]\n",
    "r1 = Dem[['Demanda_X5']]\n",
    "y_train1= r1[0:274]\n",
    "y_test1 = r1[274:]\n",
    "r2 = Dem[['Demanda_X10']]\n",
    "y_train2= r2[0:274]\n",
    "y_test2= r2[274:]\n",
    "r3 = Dem[['Demanda_X18']]\n",
    "y_train3= r3[0:274]\n",
    "y_test3= r3[274:]\n",
    "r4 = Dem[['Demanda_X21']]\n",
    "y_train4= r4[0:274]\n",
    "y_test4= r4[274:]\n",
    "r5 = Dem[['Demanda_X23']]\n",
    "y_train5= r5[0:274]\n",
    "y_test5= r5[274:]"
   ]
  },
  {
   "cell_type": "code",
   "execution_count": 7,
   "metadata": {},
   "outputs": [],
   "source": [
    "#X_test.to_csv('X_test.csv')\n",
    "#y_test5.to_csv('y_test5.csv')"
   ]
  },
  {
   "cell_type": "code",
   "execution_count": 8,
   "metadata": {},
   "outputs": [],
   "source": [
    "# Escalar los datos\n",
    "from sklearn.preprocessing import StandardScaler\n",
    "scaler = StandardScaler().fit(X_train)\n",
    "X_train = scaler.transform(X_train)\n",
    "X_test = scaler.transform(X_test)"
   ]
  },
  {
   "cell_type": "code",
   "execution_count": 9,
   "metadata": {},
   "outputs": [],
   "source": [
    "y_test1 = np.array(y_test1)\n",
    "y_test2 = np.array(y_test2)\n",
    "y_test3 = np.array(y_test3)\n",
    "y_test4 = np.array(y_test4)\n",
    "y_test5 = np.array(y_test5)"
   ]
  },
  {
   "cell_type": "markdown",
   "metadata": {},
   "source": [
    "#### Modelo de regresion lineal"
   ]
  },
  {
   "cell_type": "code",
   "execution_count": 10,
   "metadata": {},
   "outputs": [],
   "source": [
    "from sklearn.linear_model import LinearRegression\n",
    "lin_mdl1 = LinearRegression()\n",
    "lin_mdl2 = LinearRegression()\n",
    "lin_mdl3 = LinearRegression()\n",
    "lin_mdl4 = LinearRegression()\n",
    "lin_mdl5 = LinearRegression()"
   ]
  },
  {
   "cell_type": "code",
   "execution_count": 11,
   "metadata": {},
   "outputs": [
    {
     "data": {
      "text/plain": [
       "LinearRegression()"
      ]
     },
     "execution_count": 11,
     "metadata": {},
     "output_type": "execute_result"
    }
   ],
   "source": [
    "# Entrenar los modelos\n",
    "from sklearn.metrics import mean_squared_error\n",
    "import math\n",
    "lin_mdl1.fit(X_train, y_train1)             \n",
    "lin_mdl2.fit(X_train, y_train2)  \n",
    "lin_mdl3.fit(X_train, y_train3)  \n",
    "lin_mdl4.fit(X_train, y_train4)  \n",
    "lin_mdl5.fit(X_train, y_train5)  "
   ]
  },
  {
   "cell_type": "code",
   "execution_count": 12,
   "metadata": {},
   "outputs": [],
   "source": [
    "# Predecir\n",
    "lin_pred1 = lin_mdl1.predict(X_test) \n",
    "lin_pred2 = lin_mdl2.predict(X_test) \n",
    "lin_pred3 = lin_mdl3.predict(X_test) \n",
    "lin_pred4 = lin_mdl4.predict(X_test) \n",
    "lin_pred5 = lin_mdl5.predict(X_test) "
   ]
  },
  {
   "cell_type": "code",
   "execution_count": 13,
   "metadata": {},
   "outputs": [],
   "source": [
    "#lin_pred5 = pd.DataFrame(lin_pred5)\n",
    "#lin_pred5.to_csv('lin_pred5.csv')"
   ]
  },
  {
   "cell_type": "code",
   "execution_count": 14,
   "metadata": {},
   "outputs": [],
   "source": [
    "# MAPE\n",
    "lin_rs1 = np.mean(np.abs((y_test1 - lin_pred1) / y_test1)) * 100\n",
    "lin_rs2 = np.mean(np.abs((y_test2 - lin_pred2) / y_test2)) * 100\n",
    "lin_rs3 = np.mean(np.abs((y_test3 - lin_pred3) / y_test3)) * 100\n",
    "lin_rs4 = np.mean(np.abs((y_test4 - lin_pred4) / y_test4)) * 100\n",
    "lin_rs5 = np.mean(np.abs((y_test5 - lin_pred5) / y_test5)) * 100"
   ]
  },
  {
   "cell_type": "code",
   "execution_count": 15,
   "metadata": {},
   "outputs": [],
   "source": [
    "# Error medio cuadrado\n",
    "#lin_rs1 = math.sqrt(mean_squared_error(y_test1, lin_pred1))\n",
    "#lin_rs2 = math.sqrt(mean_squared_error(y_test2, lin_pred2))\n",
    "#lin_rs3 = math.sqrt(mean_squared_error(y_test3, lin_pred3))\n",
    "#lin_rs4 = math.sqrt(mean_squared_error(y_test4, lin_pred4))\n",
    "#lin_rs5 = math.sqrt(mean_squared_error(y_test5, lin_pred5))"
   ]
  },
  {
   "cell_type": "markdown",
   "metadata": {},
   "source": [
    "#### Modelos de Random Forest"
   ]
  },
  {
   "cell_type": "code",
   "execution_count": 16,
   "metadata": {},
   "outputs": [
    {
     "name": "stderr",
     "output_type": "stream",
     "text": [
      "/Users/liliandanielasuarezriveros/opt/anaconda3/envs/myenv/lib/python3.7/site-packages/ipykernel_launcher.py:2: DataConversionWarning: A column-vector y was passed when a 1d array was expected. Please change the shape of y to (n_samples,), for example using ravel().\n",
      "  \n",
      "/Users/liliandanielasuarezriveros/opt/anaconda3/envs/myenv/lib/python3.7/site-packages/ipykernel_launcher.py:3: DataConversionWarning: A column-vector y was passed when a 1d array was expected. Please change the shape of y to (n_samples,), for example using ravel().\n",
      "  This is separate from the ipykernel package so we can avoid doing imports until\n",
      "/Users/liliandanielasuarezriveros/opt/anaconda3/envs/myenv/lib/python3.7/site-packages/ipykernel_launcher.py:4: DataConversionWarning: A column-vector y was passed when a 1d array was expected. Please change the shape of y to (n_samples,), for example using ravel().\n",
      "  after removing the cwd from sys.path.\n",
      "/Users/liliandanielasuarezriveros/opt/anaconda3/envs/myenv/lib/python3.7/site-packages/ipykernel_launcher.py:5: DataConversionWarning: A column-vector y was passed when a 1d array was expected. Please change the shape of y to (n_samples,), for example using ravel().\n",
      "  \"\"\"\n",
      "/Users/liliandanielasuarezriveros/opt/anaconda3/envs/myenv/lib/python3.7/site-packages/ipykernel_launcher.py:6: DataConversionWarning: A column-vector y was passed when a 1d array was expected. Please change the shape of y to (n_samples,), for example using ravel().\n",
      "  \n"
     ]
    }
   ],
   "source": [
    "from sklearn.ensemble import RandomForestRegressor\n",
    "rf_1 = RandomForestRegressor().fit(X_train, y_train1)\n",
    "rf_2 = RandomForestRegressor().fit(X_train, y_train2)\n",
    "rf_3 = RandomForestRegressor().fit(X_train, y_train3)\n",
    "rf_4 = RandomForestRegressor().fit(X_train, y_train4)\n",
    "rf_5 = RandomForestRegressor().fit(X_train, y_train5)"
   ]
  },
  {
   "cell_type": "code",
   "execution_count": 17,
   "metadata": {},
   "outputs": [],
   "source": [
    "# Predecir\n",
    "rf_pred1 = rf_1.predict(X_test) \n",
    "rf_pred2 = rf_2.predict(X_test) \n",
    "rf_pred3 = rf_3.predict(X_test) \n",
    "rf_pred4 = rf_4.predict(X_test) \n",
    "rf_pred5 = rf_5.predict(X_test) "
   ]
  },
  {
   "cell_type": "code",
   "execution_count": 18,
   "metadata": {},
   "outputs": [],
   "source": [
    "# MAPE\n",
    "rf_rs1 = np.mean(np.abs((y_test1 - rf_pred1) / y_test1)) * 100\n",
    "rf_rs2 = np.mean(np.abs((y_test2 - rf_pred2) / y_test2)) * 100\n",
    "rf_rs3 = np.mean(np.abs((y_test3 - rf_pred3) / y_test3)) * 100\n",
    "rf_rs4 = np.mean(np.abs((y_test4 - rf_pred4) / y_test4)) * 100\n",
    "rf_rs5 = np.mean(np.abs((y_test5 - rf_pred5) / y_test5)) * 100"
   ]
  },
  {
   "cell_type": "code",
   "execution_count": 19,
   "metadata": {},
   "outputs": [],
   "source": [
    "# Error medio cuadrado\n",
    "#rf_rs1 = math.sqrt(mean_squared_error(y_test1, rf_pred1))\n",
    "#rf_rs2 = math.sqrt(mean_squared_error(y_test2, rf_pred2))\n",
    "#rf_rs3 = math.sqrt(mean_squared_error(y_test3, rf_pred3))\n",
    "#rf_rs4 = math.sqrt(mean_squared_error(y_test4, rf_pred4))\n",
    "#rf_rs5 = math.sqrt(mean_squared_error(y_test5, rf_pred5))"
   ]
  },
  {
   "cell_type": "markdown",
   "metadata": {},
   "source": [
    "#### Modelos de maquinas de vectores de soporte grado 2"
   ]
  },
  {
   "cell_type": "code",
   "execution_count": 20,
   "metadata": {},
   "outputs": [
    {
     "name": "stderr",
     "output_type": "stream",
     "text": [
      "/Users/liliandanielasuarezriveros/opt/anaconda3/envs/myenv/lib/python3.7/site-packages/sklearn/utils/validation.py:72: DataConversionWarning: A column-vector y was passed when a 1d array was expected. Please change the shape of y to (n_samples, ), for example using ravel().\n",
      "  return f(**kwargs)\n",
      "/Users/liliandanielasuarezriveros/opt/anaconda3/envs/myenv/lib/python3.7/site-packages/sklearn/utils/validation.py:72: DataConversionWarning: A column-vector y was passed when a 1d array was expected. Please change the shape of y to (n_samples, ), for example using ravel().\n",
      "  return f(**kwargs)\n",
      "/Users/liliandanielasuarezriveros/opt/anaconda3/envs/myenv/lib/python3.7/site-packages/sklearn/utils/validation.py:72: DataConversionWarning: A column-vector y was passed when a 1d array was expected. Please change the shape of y to (n_samples, ), for example using ravel().\n",
      "  return f(**kwargs)\n",
      "/Users/liliandanielasuarezriveros/opt/anaconda3/envs/myenv/lib/python3.7/site-packages/sklearn/utils/validation.py:72: DataConversionWarning: A column-vector y was passed when a 1d array was expected. Please change the shape of y to (n_samples, ), for example using ravel().\n",
      "  return f(**kwargs)\n",
      "/Users/liliandanielasuarezriveros/opt/anaconda3/envs/myenv/lib/python3.7/site-packages/sklearn/utils/validation.py:72: DataConversionWarning: A column-vector y was passed when a 1d array was expected. Please change the shape of y to (n_samples, ), for example using ravel().\n",
      "  return f(**kwargs)\n"
     ]
    }
   ],
   "source": [
    "from sklearn.svm import SVR\n",
    "svm1 = SVR(kernel = 'poly', degree = 2).fit(X_train, y_train1)\n",
    "svm2 = SVR(kernel = 'poly', degree = 2).fit(X_train, y_train2)\n",
    "svm3 = SVR(kernel = 'poly', degree = 2).fit(X_train, y_train3)\n",
    "svm4 = SVR(kernel = 'poly', degree = 2).fit(X_train, y_train4)\n",
    "svm5 = SVR(kernel = 'poly', degree = 2).fit(X_train, y_train5)"
   ]
  },
  {
   "cell_type": "code",
   "execution_count": 21,
   "metadata": {},
   "outputs": [],
   "source": [
    "# Predecir\n",
    "svm_pred1 = svm1.predict(X_test) \n",
    "svm_pred2 = svm2.predict(X_test) \n",
    "svm_pred3 = svm3.predict(X_test) \n",
    "svm_pred4 = svm4.predict(X_test) \n",
    "svm_pred5 = svm5.predict(X_test) "
   ]
  },
  {
   "cell_type": "code",
   "execution_count": 22,
   "metadata": {},
   "outputs": [],
   "source": [
    "# MAPE\n",
    "svm_rs1 = np.mean(np.abs((y_test1  - svm_pred1) / y_test1)) * 100\n",
    "svm_rs2 = np.mean(np.abs((y_test2  - svm_pred2) / y_test2)) * 100\n",
    "svm_rs3 = np.mean(np.abs((y_test3  - svm_pred3) / y_test3)) * 100\n",
    "svm_rs4 = np.mean(np.abs((y_test4  - svm_pred4) / y_test4)) * 100\n",
    "svm_rs5 = np.mean(np.abs((y_test5  - svm_pred5) / y_test5)) * 100"
   ]
  },
  {
   "cell_type": "code",
   "execution_count": 23,
   "metadata": {},
   "outputs": [],
   "source": [
    "# Error medio cuadrado\n",
    "#svm_rs1 = math.sqrt(mean_squared_error(y_test1, svm_pred1))\n",
    "#svm_rs2 = math.sqrt(mean_squared_error(y_test2, svm_pred2))\n",
    "#svm_rs3 = math.sqrt(mean_squared_error(y_test3, svm_pred3))\n",
    "#svm_rs4 = math.sqrt(mean_squared_error(y_test4, svm_pred4))\n",
    "#svm_rs5 = math.sqrt(mean_squared_error(y_test5, svm_pred5))"
   ]
  },
  {
   "cell_type": "markdown",
   "metadata": {},
   "source": [
    "#### Modelo de maquinas de vectores de soporte grado 3"
   ]
  },
  {
   "cell_type": "code",
   "execution_count": 24,
   "metadata": {},
   "outputs": [
    {
     "name": "stderr",
     "output_type": "stream",
     "text": [
      "/Users/liliandanielasuarezriveros/opt/anaconda3/envs/myenv/lib/python3.7/site-packages/sklearn/utils/validation.py:72: DataConversionWarning: A column-vector y was passed when a 1d array was expected. Please change the shape of y to (n_samples, ), for example using ravel().\n",
      "  return f(**kwargs)\n",
      "/Users/liliandanielasuarezriveros/opt/anaconda3/envs/myenv/lib/python3.7/site-packages/sklearn/utils/validation.py:72: DataConversionWarning: A column-vector y was passed when a 1d array was expected. Please change the shape of y to (n_samples, ), for example using ravel().\n",
      "  return f(**kwargs)\n",
      "/Users/liliandanielasuarezriveros/opt/anaconda3/envs/myenv/lib/python3.7/site-packages/sklearn/utils/validation.py:72: DataConversionWarning: A column-vector y was passed when a 1d array was expected. Please change the shape of y to (n_samples, ), for example using ravel().\n",
      "  return f(**kwargs)\n",
      "/Users/liliandanielasuarezriveros/opt/anaconda3/envs/myenv/lib/python3.7/site-packages/sklearn/utils/validation.py:72: DataConversionWarning: A column-vector y was passed when a 1d array was expected. Please change the shape of y to (n_samples, ), for example using ravel().\n",
      "  return f(**kwargs)\n",
      "/Users/liliandanielasuarezriveros/opt/anaconda3/envs/myenv/lib/python3.7/site-packages/sklearn/utils/validation.py:72: DataConversionWarning: A column-vector y was passed when a 1d array was expected. Please change the shape of y to (n_samples, ), for example using ravel().\n",
      "  return f(**kwargs)\n"
     ]
    }
   ],
   "source": [
    "svm1_1 = SVR(kernel = 'poly', degree = 3).fit(X_train, y_train1)\n",
    "svm2_1 = SVR(kernel = 'poly', degree = 3).fit(X_train, y_train2)\n",
    "svm3_1 = SVR(kernel = 'poly', degree = 3).fit(X_train, y_train3)\n",
    "svm4_1 = SVR(kernel = 'poly', degree = 3).fit(X_train, y_train4)\n",
    "svm5_1 = SVR(kernel = 'poly', degree = 3).fit(X_train, y_train5)"
   ]
  },
  {
   "cell_type": "code",
   "execution_count": 25,
   "metadata": {},
   "outputs": [],
   "source": [
    "# Predecir \n",
    "svm_pred1_1 = svm1_1.predict(X_test) \n",
    "svm_pred2_1 = svm2_1.predict(X_test) \n",
    "svm_pred3_1 = svm3_1.predict(X_test) \n",
    "svm_pred4_1 = svm4_1.predict(X_test) \n",
    "svm_pred5_1 = svm5_1.predict(X_test) "
   ]
  },
  {
   "cell_type": "code",
   "execution_count": 26,
   "metadata": {},
   "outputs": [],
   "source": [
    "# MAPE\n",
    "svm_1_rs1 = np.mean(np.abs((y_test1  - svm_pred1_1) / y_test1)) * 100\n",
    "svm_1_rs2 = np.mean(np.abs((y_test2  - svm_pred2_1) / y_test2)) * 100\n",
    "svm_1_rs3 = np.mean(np.abs((y_test3  - svm_pred3_1) / y_test3)) * 100\n",
    "svm_1_rs4 = np.mean(np.abs((y_test4  - svm_pred4_1) / y_test4)) * 100\n",
    "svm_1_rs5 = np.mean(np.abs((y_test5  - svm_pred5_1) / y_test5)) * 100"
   ]
  },
  {
   "cell_type": "code",
   "execution_count": 27,
   "metadata": {},
   "outputs": [],
   "source": [
    "# Error medio cuadrado\n",
    "#svm_1_rs1 = math.sqrt(mean_squared_error(y_test1, svm_pred1_1))\n",
    "#svm_1_rs2 = math.sqrt(mean_squared_error(y_test2, svm_pred2_1))\n",
    "#svm_1_rs3 = math.sqrt(mean_squared_error(y_test3, svm_pred3_1))\n",
    "#svm_1_rs4 = math.sqrt(mean_squared_error(y_test4, svm_pred4_1))\n",
    "#svm_1_rs5 = math.sqrt(mean_squared_error(y_test5, svm_pred5_1))"
   ]
  },
  {
   "cell_type": "code",
   "execution_count": 28,
   "metadata": {},
   "outputs": [],
   "source": [
    "import numpy as np\n",
    "m_error = pd.DataFrame(np.array([[lin_rs1,lin_rs2,lin_rs3,lin_rs4,lin_rs5],\n",
    "                                [rf_rs1,rf_rs2,rf_rs3,rf_rs4,rf_rs5],[svm_rs1,svm_rs2,svm_rs3,svm_rs4,svm_rs5],\n",
    "                                [svm_1_rs1,svm_1_rs2,svm_1_rs3,svm_1_rs4,svm_1_rs5]]))                      "
   ]
  },
  {
   "cell_type": "code",
   "execution_count": 29,
   "metadata": {},
   "outputs": [],
   "source": [
    "m_error.columns = ['Demanda_X5','Demanda_X10','Demanda_X18','Demanda_X21','Demanda_X23']\n",
    "m_error.rename(index = {0: 'Lineal', 1: 'Random Forest', 2: 'SVM2', 3: 'SVM3'}, inplace = True)"
   ]
  },
  {
   "cell_type": "markdown",
   "metadata": {},
   "source": [
    "### Analisis por hora y por cluster"
   ]
  },
  {
   "cell_type": "code",
   "execution_count": 30,
   "metadata": {},
   "outputs": [],
   "source": [
    "# Separar los datos segun cluster\n",
    "data_1 = Dem[Dem.Cluster_Nuevo == 1]\n",
    "data_2 = Dem[Dem.Cluster_Nuevo == 2]\n",
    "data_3 = Dem[Dem.Cluster_Nuevo == 3]"
   ]
  },
  {
   "cell_type": "markdown",
   "metadata": {},
   "source": [
    "#### Para cluster 1"
   ]
  },
  {
   "cell_type": "code",
   "execution_count": 31,
   "metadata": {},
   "outputs": [],
   "source": [
    "# Datos a predecir.\n",
    "r1_1 = data_1[['Demanda_X5']]\n",
    "r2_1 = data_1[['Demanda_X10']]\n",
    "r3_1 = data_1[['Demanda_X18']]\n",
    "r4_1 = data_1[['Demanda_X21']]\n",
    "r5_1 = data_1[['Demanda_X23']]"
   ]
  },
  {
   "cell_type": "code",
   "execution_count": 32,
   "metadata": {},
   "outputs": [],
   "source": [
    "# Datos para entrenar.\n",
    "data_1 = data_1[['dia', 'mes', 'Cluster_Nuevo', 'Demanda_X0', 'Demanda_X1',\n",
    "       'Demanda_X2', 'Demanda_X3']]"
   ]
  },
  {
   "cell_type": "code",
   "execution_count": 33,
   "metadata": {},
   "outputs": [],
   "source": [
    "# Separar datos.\n",
    "from sklearn.model_selection import train_test_split\n",
    "X_train, X_test, y_train1, y_test1, y_train2, y_test2, y_train3 , y_test3, y_train4, y_test4, y_train5, y_test5 = train_test_split(data_1, r1_1, r2_1,\n",
    "                        r3_1, r4_1, r5_1, test_size=0.25, random_state=1)"
   ]
  },
  {
   "cell_type": "code",
   "execution_count": 34,
   "metadata": {},
   "outputs": [],
   "source": [
    "y_test1 = np.array(y_test1)\n",
    "y_test2 = np.array(y_test2)\n",
    "y_test3 = np.array(y_test3)\n",
    "y_test4 = np.array(y_test4)\n",
    "y_test5 = np.array(y_test5)"
   ]
  },
  {
   "cell_type": "code",
   "execution_count": 35,
   "metadata": {},
   "outputs": [],
   "source": [
    "# Escalar datos\n",
    "from sklearn.preprocessing import StandardScaler\n",
    "scaler = StandardScaler().fit(X_train)\n",
    "X_train = scaler.transform(X_train)\n",
    "X_test = scaler.transform(X_test)"
   ]
  },
  {
   "cell_type": "markdown",
   "metadata": {},
   "source": [
    "##### Modelos de regresion lineal"
   ]
  },
  {
   "cell_type": "code",
   "execution_count": 36,
   "metadata": {},
   "outputs": [],
   "source": [
    "from sklearn.linear_model import LinearRegression\n",
    "lin_mdl1 = LinearRegression()\n",
    "lin_mdl2 = LinearRegression()\n",
    "lin_mdl3 = LinearRegression()\n",
    "lin_mdl4 = LinearRegression()\n",
    "lin_mdl5 = LinearRegression()"
   ]
  },
  {
   "cell_type": "code",
   "execution_count": 37,
   "metadata": {},
   "outputs": [
    {
     "data": {
      "text/plain": [
       "LinearRegression()"
      ]
     },
     "execution_count": 37,
     "metadata": {},
     "output_type": "execute_result"
    }
   ],
   "source": [
    "from sklearn.metrics import mean_squared_error\n",
    "import math\n",
    "lin_mdl1.fit(X_train, y_train1)             \n",
    "lin_mdl2.fit(X_train, y_train2)  \n",
    "lin_mdl3.fit(X_train, y_train3)  \n",
    "lin_mdl4.fit(X_train, y_train4)  \n",
    "lin_mdl5.fit(X_train, y_train5)  "
   ]
  },
  {
   "cell_type": "code",
   "execution_count": 38,
   "metadata": {},
   "outputs": [],
   "source": [
    "# Predecir\n",
    "lin_pred1_1 = lin_mdl1.predict(X_test) \n",
    "lin_pred2_1 = lin_mdl2.predict(X_test) \n",
    "lin_pred3_1 = lin_mdl3.predict(X_test) \n",
    "lin_pred4_1 = lin_mdl4.predict(X_test) \n",
    "lin_pred5_1 = lin_mdl5.predict(X_test) "
   ]
  },
  {
   "cell_type": "code",
   "execution_count": 39,
   "metadata": {},
   "outputs": [],
   "source": [
    "# MAPE\n",
    "lin_rs1_1 = np.mean(np.abs((y_test1  - lin_pred1_1) / y_test1)) * 100\n",
    "lin_rs2_1 = np.mean(np.abs((y_test2  - lin_pred2_1) / y_test2)) * 100\n",
    "lin_rs3_1 = np.mean(np.abs((y_test3  - lin_pred3_1) / y_test3)) * 100\n",
    "lin_rs4_1 = np.mean(np.abs((y_test4  - lin_pred4_1) / y_test4)) * 100\n",
    "lin_rs5_1 = np.mean(np.abs((y_test5  - lin_pred5_1) / y_test5)) * 100"
   ]
  },
  {
   "cell_type": "code",
   "execution_count": 40,
   "metadata": {},
   "outputs": [],
   "source": [
    "# Error medio cuadratico\n",
    "#lin_rs1_1 = math.sqrt(mean_squared_error(y_test1, lin_pred1_1))\n",
    "#lin_rs2_1 = math.sqrt(mean_squared_error(y_test2, lin_pred2_1))\n",
    "#lin_rs3_1 = math.sqrt(mean_squared_error(y_test3, lin_pred3_1))\n",
    "#lin_rs4_1 = math.sqrt(mean_squared_error(y_test4, lin_pred4_1))\n",
    "#lin_rs5_1 = math.sqrt(mean_squared_error(y_test5, lin_pred5_1))"
   ]
  },
  {
   "cell_type": "markdown",
   "metadata": {},
   "source": [
    "##### Modelo de Random Forest"
   ]
  },
  {
   "cell_type": "code",
   "execution_count": 41,
   "metadata": {},
   "outputs": [
    {
     "name": "stderr",
     "output_type": "stream",
     "text": [
      "/Users/liliandanielasuarezriveros/opt/anaconda3/envs/myenv/lib/python3.7/site-packages/ipykernel_launcher.py:2: DataConversionWarning: A column-vector y was passed when a 1d array was expected. Please change the shape of y to (n_samples,), for example using ravel().\n",
      "  \n",
      "/Users/liliandanielasuarezriveros/opt/anaconda3/envs/myenv/lib/python3.7/site-packages/ipykernel_launcher.py:3: DataConversionWarning: A column-vector y was passed when a 1d array was expected. Please change the shape of y to (n_samples,), for example using ravel().\n",
      "  This is separate from the ipykernel package so we can avoid doing imports until\n",
      "/Users/liliandanielasuarezriveros/opt/anaconda3/envs/myenv/lib/python3.7/site-packages/ipykernel_launcher.py:4: DataConversionWarning: A column-vector y was passed when a 1d array was expected. Please change the shape of y to (n_samples,), for example using ravel().\n",
      "  after removing the cwd from sys.path.\n",
      "/Users/liliandanielasuarezriveros/opt/anaconda3/envs/myenv/lib/python3.7/site-packages/ipykernel_launcher.py:5: DataConversionWarning: A column-vector y was passed when a 1d array was expected. Please change the shape of y to (n_samples,), for example using ravel().\n",
      "  \"\"\"\n",
      "/Users/liliandanielasuarezriveros/opt/anaconda3/envs/myenv/lib/python3.7/site-packages/ipykernel_launcher.py:6: DataConversionWarning: A column-vector y was passed when a 1d array was expected. Please change the shape of y to (n_samples,), for example using ravel().\n",
      "  \n"
     ]
    }
   ],
   "source": [
    "from sklearn.ensemble import RandomForestRegressor\n",
    "rf_1 = RandomForestRegressor().fit(X_train, y_train1)\n",
    "rf_2 = RandomForestRegressor().fit(X_train, y_train2)\n",
    "rf_3 = RandomForestRegressor().fit(X_train, y_train3)\n",
    "rf_4 = RandomForestRegressor().fit(X_train, y_train4)\n",
    "rf_5 = RandomForestRegressor().fit(X_train, y_train5)"
   ]
  },
  {
   "cell_type": "code",
   "execution_count": 42,
   "metadata": {},
   "outputs": [],
   "source": [
    "# Predecir\n",
    "rf_pred1_1 = rf_1.predict(X_test) \n",
    "rf_pred2_1 = rf_2.predict(X_test) \n",
    "rf_pred3_1 = rf_3.predict(X_test) \n",
    "rf_pred4_1 = rf_4.predict(X_test) \n",
    "rf_pred5_1 = rf_5.predict(X_test) "
   ]
  },
  {
   "cell_type": "code",
   "execution_count": 43,
   "metadata": {},
   "outputs": [],
   "source": [
    "# MAPE\n",
    "rf_rs1_1 = np.mean(np.abs((y_test1  - rf_pred1_1) / y_test1)) * 100\n",
    "rf_rs2_1 = np.mean(np.abs((y_test2  - rf_pred2_1) / y_test2)) * 100\n",
    "rf_rs3_1 = np.mean(np.abs((y_test3  - rf_pred3_1) / y_test3)) * 100\n",
    "rf_rs4_1 = np.mean(np.abs((y_test4  - rf_pred4_1) / y_test4)) * 100\n",
    "rf_rs5_1 = np.mean(np.abs((y_test5  - rf_pred5_1) / y_test5)) * 100"
   ]
  },
  {
   "cell_type": "code",
   "execution_count": 44,
   "metadata": {},
   "outputs": [],
   "source": [
    "# Error medio cuadratico\n",
    "#rf_rs1_1 = math.sqrt(mean_squared_error(y_test1, rf_pred1_1))\n",
    "#rf_rs2_1 = math.sqrt(mean_squared_error(y_test2, rf_pred2_1))\n",
    "#rf_rs3_1 = math.sqrt(mean_squared_error(y_test3, rf_pred3_1))\n",
    "#rf_rs4_1 = math.sqrt(mean_squared_error(y_test4, rf_pred4_1))\n",
    "#rf_rs5_1 = math.sqrt(mean_squared_error(y_test5, rf_pred5_1))"
   ]
  },
  {
   "cell_type": "markdown",
   "metadata": {},
   "source": [
    "##### Modelo de Maquinas de Vectores de Soporte grado 2"
   ]
  },
  {
   "cell_type": "code",
   "execution_count": 45,
   "metadata": {},
   "outputs": [
    {
     "name": "stderr",
     "output_type": "stream",
     "text": [
      "/Users/liliandanielasuarezriveros/opt/anaconda3/envs/myenv/lib/python3.7/site-packages/sklearn/utils/validation.py:72: DataConversionWarning: A column-vector y was passed when a 1d array was expected. Please change the shape of y to (n_samples, ), for example using ravel().\n",
      "  return f(**kwargs)\n",
      "/Users/liliandanielasuarezriveros/opt/anaconda3/envs/myenv/lib/python3.7/site-packages/sklearn/utils/validation.py:72: DataConversionWarning: A column-vector y was passed when a 1d array was expected. Please change the shape of y to (n_samples, ), for example using ravel().\n",
      "  return f(**kwargs)\n",
      "/Users/liliandanielasuarezriveros/opt/anaconda3/envs/myenv/lib/python3.7/site-packages/sklearn/utils/validation.py:72: DataConversionWarning: A column-vector y was passed when a 1d array was expected. Please change the shape of y to (n_samples, ), for example using ravel().\n",
      "  return f(**kwargs)\n",
      "/Users/liliandanielasuarezriveros/opt/anaconda3/envs/myenv/lib/python3.7/site-packages/sklearn/utils/validation.py:72: DataConversionWarning: A column-vector y was passed when a 1d array was expected. Please change the shape of y to (n_samples, ), for example using ravel().\n",
      "  return f(**kwargs)\n",
      "/Users/liliandanielasuarezriveros/opt/anaconda3/envs/myenv/lib/python3.7/site-packages/sklearn/utils/validation.py:72: DataConversionWarning: A column-vector y was passed when a 1d array was expected. Please change the shape of y to (n_samples, ), for example using ravel().\n",
      "  return f(**kwargs)\n"
     ]
    }
   ],
   "source": [
    "from sklearn.svm import SVR\n",
    "svm1 = SVR(kernel = 'poly', degree = 2).fit(X_train, y_train1)\n",
    "svm2 = SVR(kernel = 'poly', degree = 2).fit(X_train, y_train2)\n",
    "svm3 = SVR(kernel = 'poly', degree = 2).fit(X_train, y_train3)\n",
    "svm4 = SVR(kernel = 'poly', degree = 2).fit(X_train, y_train4)\n",
    "svm5 = SVR(kernel = 'poly', degree = 2).fit(X_train, y_train5)"
   ]
  },
  {
   "cell_type": "code",
   "execution_count": 46,
   "metadata": {},
   "outputs": [],
   "source": [
    "# Predecir\n",
    "svm_pred1_1 = svm1.predict(X_test) \n",
    "svm_pred2_1 = svm2.predict(X_test) \n",
    "svm_pred3_1 = svm3.predict(X_test) \n",
    "svm_pred4_1 = svm4.predict(X_test) \n",
    "svm_pred5_1 = svm5.predict(X_test) "
   ]
  },
  {
   "cell_type": "code",
   "execution_count": 47,
   "metadata": {},
   "outputs": [],
   "source": [
    "# MAPE\n",
    "svm_rs1_1 = np.mean(np.abs((y_test1  - svm_pred1_1) / y_test1)) * 100\n",
    "svm_rs2_1 = np.mean(np.abs((y_test2  - svm_pred2_1) / y_test2)) * 100\n",
    "svm_rs3_1 = np.mean(np.abs((y_test3  - svm_pred3_1) / y_test3)) * 100\n",
    "svm_rs4_1 = np.mean(np.abs((y_test4  - svm_pred4_1) / y_test4)) * 100\n",
    "svm_rs5_1 = np.mean(np.abs((y_test5  - svm_pred5_1) / y_test5)) * 100"
   ]
  },
  {
   "cell_type": "code",
   "execution_count": 48,
   "metadata": {},
   "outputs": [],
   "source": [
    "# Error medio cuadratico\n",
    "#svm_rs1_1 = math.sqrt(mean_squared_error(y_test1, svm_pred1_1))\n",
    "#svm_rs2_1 = math.sqrt(mean_squared_error(y_test2, svm_pred2_1))\n",
    "#svm_rs3_1 = math.sqrt(mean_squared_error(y_test3, svm_pred3_1))\n",
    "#svm_rs4_1 = math.sqrt(mean_squared_error(y_test4, svm_pred4_1))\n",
    "#svm_rs5_1 = math.sqrt(mean_squared_error(y_test5, svm_pred5_1))"
   ]
  },
  {
   "cell_type": "markdown",
   "metadata": {},
   "source": [
    "##### Modelo de maquinas de soporte grado 3"
   ]
  },
  {
   "cell_type": "code",
   "execution_count": 49,
   "metadata": {},
   "outputs": [
    {
     "name": "stderr",
     "output_type": "stream",
     "text": [
      "/Users/liliandanielasuarezriveros/opt/anaconda3/envs/myenv/lib/python3.7/site-packages/sklearn/utils/validation.py:72: DataConversionWarning: A column-vector y was passed when a 1d array was expected. Please change the shape of y to (n_samples, ), for example using ravel().\n",
      "  return f(**kwargs)\n",
      "/Users/liliandanielasuarezriveros/opt/anaconda3/envs/myenv/lib/python3.7/site-packages/sklearn/utils/validation.py:72: DataConversionWarning: A column-vector y was passed when a 1d array was expected. Please change the shape of y to (n_samples, ), for example using ravel().\n",
      "  return f(**kwargs)\n",
      "/Users/liliandanielasuarezriveros/opt/anaconda3/envs/myenv/lib/python3.7/site-packages/sklearn/utils/validation.py:72: DataConversionWarning: A column-vector y was passed when a 1d array was expected. Please change the shape of y to (n_samples, ), for example using ravel().\n",
      "  return f(**kwargs)\n",
      "/Users/liliandanielasuarezriveros/opt/anaconda3/envs/myenv/lib/python3.7/site-packages/sklearn/utils/validation.py:72: DataConversionWarning: A column-vector y was passed when a 1d array was expected. Please change the shape of y to (n_samples, ), for example using ravel().\n",
      "  return f(**kwargs)\n",
      "/Users/liliandanielasuarezriveros/opt/anaconda3/envs/myenv/lib/python3.7/site-packages/sklearn/utils/validation.py:72: DataConversionWarning: A column-vector y was passed when a 1d array was expected. Please change the shape of y to (n_samples, ), for example using ravel().\n",
      "  return f(**kwargs)\n"
     ]
    }
   ],
   "source": [
    "svm1_1 = SVR(kernel = 'poly', degree = 3).fit(X_train, y_train1)\n",
    "svm2_1 = SVR(kernel = 'poly', degree = 3).fit(X_train, y_train2)\n",
    "svm3_1 = SVR(kernel = 'poly', degree = 3).fit(X_train, y_train3)\n",
    "svm4_1 = SVR(kernel = 'poly', degree = 3).fit(X_train, y_train4)\n",
    "svm5_1 = SVR(kernel = 'poly', degree = 3).fit(X_train, y_train5)"
   ]
  },
  {
   "cell_type": "code",
   "execution_count": 50,
   "metadata": {},
   "outputs": [],
   "source": [
    "# Predecir\n",
    "svm_pred1_11 = svm1_1.predict(X_test) \n",
    "svm_pred2_11 = svm2_1.predict(X_test) \n",
    "svm_pred3_11 = svm3_1.predict(X_test) \n",
    "svm_pred4_11 = svm4_1.predict(X_test) \n",
    "svm_pred5_11 = svm5_1.predict(X_test) "
   ]
  },
  {
   "cell_type": "code",
   "execution_count": 51,
   "metadata": {},
   "outputs": [],
   "source": [
    "# MAPE\n",
    "svm_1_rs1_1 = np.mean(np.abs((y_test1  - svm_pred1_11) / y_test1)) * 100\n",
    "svm_1_rs2_1 = np.mean(np.abs((y_test2  - svm_pred2_11) / y_test2)) * 100\n",
    "svm_1_rs3_1 = np.mean(np.abs((y_test3  - svm_pred3_11) / y_test3)) * 100\n",
    "svm_1_rs4_1 = np.mean(np.abs((y_test4  - svm_pred4_11) / y_test4)) * 100\n",
    "svm_1_rs5_1 = np.mean(np.abs((y_test5  - svm_pred5_11) / y_test5)) * 100"
   ]
  },
  {
   "cell_type": "code",
   "execution_count": 52,
   "metadata": {},
   "outputs": [],
   "source": [
    "# Error medio cuadratico\n",
    "#svm_1_rs1_11 = math.sqrt(mean_squared_error(y_test1, svm_pred1_11))\n",
    "#svm_1_rs2_11 = math.sqrt(mean_squared_error(y_test2, svm_pred2_11))\n",
    "#svm_1_rs3_11 = math.sqrt(mean_squared_error(y_test3, svm_pred3_11))\n",
    "#svm_1_rs4_11 = math.sqrt(mean_squared_error(y_test4, svm_pred4_11))\n",
    "#svm_1_rs5_11 = math.sqrt(mean_squared_error(y_test5, svm_pred5_11))"
   ]
  },
  {
   "cell_type": "code",
   "execution_count": 53,
   "metadata": {},
   "outputs": [],
   "source": [
    "import numpy as np\n",
    "m_error_1 = pd.DataFrame(np.array([[lin_rs1_1,lin_rs2_1,lin_rs3_1,lin_rs4_1,lin_rs5_1],\n",
    "                                [rf_rs1_1,rf_rs2_1,rf_rs3_1,rf_rs4_1,rf_rs5_1],[svm_rs1_1,svm_rs2_1,svm_rs3_1,svm_rs4_1,svm_rs5_1],\n",
    "                                [svm_1_rs1_1,svm_1_rs2_1,svm_1_rs3_1,svm_1_rs4_1,svm_1_rs5_1]]))                      "
   ]
  },
  {
   "cell_type": "code",
   "execution_count": 54,
   "metadata": {},
   "outputs": [],
   "source": [
    "m_error_1.columns = ['Demanda_X5','Demanda_X10','Demanda_X18','Demanda_X21','Demanda_X23']\n",
    "m_error_1.rename(index = {0: 'Lineal', 1: 'Random Forest', 2: 'SVM2', 3: 'SVM3'}, inplace = True)"
   ]
  },
  {
   "cell_type": "markdown",
   "metadata": {},
   "source": [
    "#### Para cluster 2"
   ]
  },
  {
   "cell_type": "code",
   "execution_count": 55,
   "metadata": {},
   "outputs": [],
   "source": [
    "# Datos a predecir.\n",
    "r1_2 = data_2[['Demanda_X5']]\n",
    "r2_2 = data_2[['Demanda_X10']]\n",
    "r3_2 = data_2[['Demanda_X18']]\n",
    "r4_2 = data_2[['Demanda_X21']]\n",
    "r5_2 = data_2[['Demanda_X23']]"
   ]
  },
  {
   "cell_type": "code",
   "execution_count": 56,
   "metadata": {},
   "outputs": [],
   "source": [
    "# Datos para entrenar.\n",
    "data_2 = data_2[['dia', 'mes', 'Cluster_Nuevo', 'Demanda_X0', 'Demanda_X1',\n",
    "       'Demanda_X2', 'Demanda_X3']]"
   ]
  },
  {
   "cell_type": "code",
   "execution_count": 57,
   "metadata": {},
   "outputs": [],
   "source": [
    "# Separar.\n",
    "from sklearn.model_selection import train_test_split\n",
    "X_train, X_test, y_train1, y_test1, y_train2, y_test2, y_train3 , y_test3, y_train4, y_test4, y_train5, y_test5 = train_test_split(data_2, r1_2, r2_2,\n",
    "                        r3_2, r4_2, r5_2, test_size=0.25, random_state=1)"
   ]
  },
  {
   "cell_type": "code",
   "execution_count": 58,
   "metadata": {},
   "outputs": [],
   "source": [
    "y_test1 = np.array(y_test1)\n",
    "y_test2 = np.array(y_test2)\n",
    "y_test3 = np.array(y_test3)\n",
    "y_test4 = np.array(y_test4)\n",
    "y_test5 = np.array(y_test5)"
   ]
  },
  {
   "cell_type": "code",
   "execution_count": 59,
   "metadata": {},
   "outputs": [],
   "source": [
    "# Escalar.\n",
    "from sklearn.preprocessing import StandardScaler\n",
    "scaler = StandardScaler().fit(X_train)\n",
    "X_train = scaler.transform(X_train)\n",
    "X_test = scaler.transform(X_test)"
   ]
  },
  {
   "cell_type": "markdown",
   "metadata": {},
   "source": [
    "##### Modelo de regresion lineal"
   ]
  },
  {
   "cell_type": "code",
   "execution_count": 60,
   "metadata": {},
   "outputs": [],
   "source": [
    "from sklearn.linear_model import LinearRegression\n",
    "lin_mdl1 = LinearRegression()\n",
    "lin_mdl2 = LinearRegression()\n",
    "lin_mdl3 = LinearRegression()\n",
    "lin_mdl4 = LinearRegression()\n",
    "lin_mdl5 = LinearRegression()"
   ]
  },
  {
   "cell_type": "code",
   "execution_count": 61,
   "metadata": {},
   "outputs": [
    {
     "data": {
      "text/plain": [
       "LinearRegression()"
      ]
     },
     "execution_count": 61,
     "metadata": {},
     "output_type": "execute_result"
    }
   ],
   "source": [
    "from sklearn.metrics import mean_squared_error\n",
    "import math\n",
    "lin_mdl1.fit(X_train, y_train1)             \n",
    "lin_mdl2.fit(X_train, y_train2)  \n",
    "lin_mdl3.fit(X_train, y_train3)  \n",
    "lin_mdl4.fit(X_train, y_train4)  \n",
    "lin_mdl5.fit(X_train, y_train5)  "
   ]
  },
  {
   "cell_type": "code",
   "execution_count": 62,
   "metadata": {},
   "outputs": [],
   "source": [
    "# Predecir\n",
    "lin_pred1_2 = lin_mdl1.predict(X_test) \n",
    "lin_pred2_2 = lin_mdl2.predict(X_test) \n",
    "lin_pred3_2 = lin_mdl3.predict(X_test) \n",
    "lin_pred4_2 = lin_mdl4.predict(X_test) \n",
    "lin_pred5_2 = lin_mdl5.predict(X_test) "
   ]
  },
  {
   "cell_type": "code",
   "execution_count": 63,
   "metadata": {},
   "outputs": [],
   "source": [
    "# MAPE\n",
    "lin_rs1_2 = np.mean(np.abs((y_test1  - lin_pred1_2) / y_test1)) * 100\n",
    "lin_rs2_2 = np.mean(np.abs((y_test2  - lin_pred2_2) / y_test2)) * 100\n",
    "lin_rs3_2 = np.mean(np.abs((y_test3  - lin_pred3_2) / y_test3)) * 100\n",
    "lin_rs4_2 = np.mean(np.abs((y_test4  - lin_pred4_2) / y_test4)) * 100\n",
    "lin_rs5_2 = np.mean(np.abs((y_test5  - lin_pred5_2) / y_test5)) * 100"
   ]
  },
  {
   "cell_type": "code",
   "execution_count": 64,
   "metadata": {},
   "outputs": [],
   "source": [
    "# Error medio cuadratico\n",
    "#lin_rs1_2 = math.sqrt(mean_squared_error(y_test1, lin_pred1_2))\n",
    "#lin_rs2_2 = math.sqrt(mean_squared_error(y_test2, lin_pred2_2))\n",
    "#lin_rs3_2 = math.sqrt(mean_squared_error(y_test3, lin_pred3_2))\n",
    "#lin_rs4_2 = math.sqrt(mean_squared_error(y_test4, lin_pred4_2))\n",
    "#lin_rs5_2 = math.sqrt(mean_squared_error(y_test5, lin_pred5_2))"
   ]
  },
  {
   "cell_type": "markdown",
   "metadata": {},
   "source": [
    "##### Modelo de Random Forest"
   ]
  },
  {
   "cell_type": "code",
   "execution_count": 65,
   "metadata": {},
   "outputs": [
    {
     "name": "stderr",
     "output_type": "stream",
     "text": [
      "/Users/liliandanielasuarezriveros/opt/anaconda3/envs/myenv/lib/python3.7/site-packages/ipykernel_launcher.py:2: DataConversionWarning: A column-vector y was passed when a 1d array was expected. Please change the shape of y to (n_samples,), for example using ravel().\n",
      "  \n",
      "/Users/liliandanielasuarezriveros/opt/anaconda3/envs/myenv/lib/python3.7/site-packages/ipykernel_launcher.py:3: DataConversionWarning: A column-vector y was passed when a 1d array was expected. Please change the shape of y to (n_samples,), for example using ravel().\n",
      "  This is separate from the ipykernel package so we can avoid doing imports until\n",
      "/Users/liliandanielasuarezriveros/opt/anaconda3/envs/myenv/lib/python3.7/site-packages/ipykernel_launcher.py:4: DataConversionWarning: A column-vector y was passed when a 1d array was expected. Please change the shape of y to (n_samples,), for example using ravel().\n",
      "  after removing the cwd from sys.path.\n",
      "/Users/liliandanielasuarezriveros/opt/anaconda3/envs/myenv/lib/python3.7/site-packages/ipykernel_launcher.py:5: DataConversionWarning: A column-vector y was passed when a 1d array was expected. Please change the shape of y to (n_samples,), for example using ravel().\n",
      "  \"\"\"\n",
      "/Users/liliandanielasuarezriveros/opt/anaconda3/envs/myenv/lib/python3.7/site-packages/ipykernel_launcher.py:6: DataConversionWarning: A column-vector y was passed when a 1d array was expected. Please change the shape of y to (n_samples,), for example using ravel().\n",
      "  \n"
     ]
    }
   ],
   "source": [
    "from sklearn.ensemble import RandomForestRegressor\n",
    "rf_1 = RandomForestRegressor().fit(X_train, y_train1)\n",
    "rf_2 = RandomForestRegressor().fit(X_train, y_train2)\n",
    "rf_3 = RandomForestRegressor().fit(X_train, y_train3)\n",
    "rf_4 = RandomForestRegressor().fit(X_train, y_train4)\n",
    "rf_5 = RandomForestRegressor().fit(X_train, y_train5)"
   ]
  },
  {
   "cell_type": "code",
   "execution_count": 66,
   "metadata": {},
   "outputs": [],
   "source": [
    "# Predecir\n",
    "rf_pred1_2 = rf_1.predict(X_test) \n",
    "rf_pred2_2 = rf_2.predict(X_test) \n",
    "rf_pred3_2 = rf_3.predict(X_test) \n",
    "rf_pred4_2 = rf_4.predict(X_test) \n",
    "rf_pred5_2 = rf_5.predict(X_test) "
   ]
  },
  {
   "cell_type": "code",
   "execution_count": 67,
   "metadata": {},
   "outputs": [],
   "source": [
    "# MAPE\n",
    "rf_rs1_2 = np.mean(np.abs((y_test1  - lin_pred1_2) / y_test1)) * 100\n",
    "rf_rs2_2 = np.mean(np.abs((y_test2  - lin_pred2_2) / y_test2)) * 100\n",
    "rf_rs3_2 = np.mean(np.abs((y_test3  - lin_pred3_2) / y_test3)) * 100\n",
    "rf_rs4_2 = np.mean(np.abs((y_test4  - lin_pred4_2) / y_test4)) * 100\n",
    "rf_rs5_2 = np.mean(np.abs((y_test5  - lin_pred5_2) / y_test5)) * 100"
   ]
  },
  {
   "cell_type": "code",
   "execution_count": 68,
   "metadata": {},
   "outputs": [],
   "source": [
    "# Error medio cuadratico\n",
    "#rf_rs1_2 = math.sqrt(mean_squared_error(y_test1, rf_pred1_2))\n",
    "#rf_rs2_2 = math.sqrt(mean_squared_error(y_test2, rf_pred2_2))\n",
    "#rf_rs3_2 = math.sqrt(mean_squared_error(y_test3, rf_pred3_2))\n",
    "#rf_rs4_2 = math.sqrt(mean_squared_error(y_test4, rf_pred4_2))\n",
    "#rf_rs5_2 = math.sqrt(mean_squared_error(y_test5, rf_pred5_2))"
   ]
  },
  {
   "cell_type": "markdown",
   "metadata": {},
   "source": [
    "##### Modelo de maquinas de vectores de soporte grado 2 "
   ]
  },
  {
   "cell_type": "code",
   "execution_count": 69,
   "metadata": {},
   "outputs": [
    {
     "name": "stderr",
     "output_type": "stream",
     "text": [
      "/Users/liliandanielasuarezriveros/opt/anaconda3/envs/myenv/lib/python3.7/site-packages/sklearn/utils/validation.py:72: DataConversionWarning: A column-vector y was passed when a 1d array was expected. Please change the shape of y to (n_samples, ), for example using ravel().\n",
      "  return f(**kwargs)\n",
      "/Users/liliandanielasuarezriveros/opt/anaconda3/envs/myenv/lib/python3.7/site-packages/sklearn/utils/validation.py:72: DataConversionWarning: A column-vector y was passed when a 1d array was expected. Please change the shape of y to (n_samples, ), for example using ravel().\n",
      "  return f(**kwargs)\n",
      "/Users/liliandanielasuarezriveros/opt/anaconda3/envs/myenv/lib/python3.7/site-packages/sklearn/utils/validation.py:72: DataConversionWarning: A column-vector y was passed when a 1d array was expected. Please change the shape of y to (n_samples, ), for example using ravel().\n",
      "  return f(**kwargs)\n",
      "/Users/liliandanielasuarezriveros/opt/anaconda3/envs/myenv/lib/python3.7/site-packages/sklearn/utils/validation.py:72: DataConversionWarning: A column-vector y was passed when a 1d array was expected. Please change the shape of y to (n_samples, ), for example using ravel().\n",
      "  return f(**kwargs)\n",
      "/Users/liliandanielasuarezriveros/opt/anaconda3/envs/myenv/lib/python3.7/site-packages/sklearn/utils/validation.py:72: DataConversionWarning: A column-vector y was passed when a 1d array was expected. Please change the shape of y to (n_samples, ), for example using ravel().\n",
      "  return f(**kwargs)\n"
     ]
    }
   ],
   "source": [
    "from sklearn.svm import SVR\n",
    "svm1 = SVR(kernel = 'poly', degree = 2).fit(X_train, y_train1)\n",
    "svm2 = SVR(kernel = 'poly', degree = 2).fit(X_train, y_train2)\n",
    "svm3 = SVR(kernel = 'poly', degree = 2).fit(X_train, y_train3)\n",
    "svm4 = SVR(kernel = 'poly', degree = 2).fit(X_train, y_train4)\n",
    "svm5 = SVR(kernel = 'poly', degree = 2).fit(X_train, y_train5)"
   ]
  },
  {
   "cell_type": "code",
   "execution_count": 70,
   "metadata": {},
   "outputs": [],
   "source": [
    "# Predecir\n",
    "svm_pred1_2 = svm1.predict(X_test) \n",
    "svm_pred2_2 = svm2.predict(X_test) \n",
    "svm_pred3_2 = svm3.predict(X_test) \n",
    "svm_pred4_2 = svm4.predict(X_test) \n",
    "svm_pred5_2 = svm5.predict(X_test) "
   ]
  },
  {
   "cell_type": "code",
   "execution_count": 71,
   "metadata": {},
   "outputs": [],
   "source": [
    "# MAPE\n",
    "svm_rs1_2 = np.mean(np.abs((y_test1  - svm_pred1_2) / y_test1)) * 100\n",
    "svm_rs2_2 = np.mean(np.abs((y_test2  - svm_pred2_2) / y_test2)) * 100\n",
    "svm_rs3_2 = np.mean(np.abs((y_test3  - svm_pred3_2) / y_test3)) * 100\n",
    "svm_rs4_2 = np.mean(np.abs((y_test4  - svm_pred4_2) / y_test4)) * 100\n",
    "svm_rs5_2 = np.mean(np.abs((y_test5  - svm_pred5_2) / y_test5)) * 100"
   ]
  },
  {
   "cell_type": "code",
   "execution_count": 72,
   "metadata": {},
   "outputs": [],
   "source": [
    "# Error emdio cuadratico\n",
    "#svm_rs1_2 = math.sqrt(mean_squared_error(y_test1, svm_pred1_2))\n",
    "#svm_rs2_2 = math.sqrt(mean_squared_error(y_test2, svm_pred2_2))\n",
    "#svm_rs3_2 = math.sqrt(mean_squared_error(y_test3, svm_pred3_2))\n",
    "#svm_rs4_2 = math.sqrt(mean_squared_error(y_test4, svm_pred4_2))\n",
    "#svm_rs5_2 = math.sqrt(mean_squared_error(y_test5, svm_pred5_2))"
   ]
  },
  {
   "cell_type": "markdown",
   "metadata": {},
   "source": [
    "##### Modelo de maquinas de vectores de soporte grado 3"
   ]
  },
  {
   "cell_type": "code",
   "execution_count": 73,
   "metadata": {},
   "outputs": [
    {
     "name": "stderr",
     "output_type": "stream",
     "text": [
      "/Users/liliandanielasuarezriveros/opt/anaconda3/envs/myenv/lib/python3.7/site-packages/sklearn/utils/validation.py:72: DataConversionWarning: A column-vector y was passed when a 1d array was expected. Please change the shape of y to (n_samples, ), for example using ravel().\n",
      "  return f(**kwargs)\n",
      "/Users/liliandanielasuarezriveros/opt/anaconda3/envs/myenv/lib/python3.7/site-packages/sklearn/utils/validation.py:72: DataConversionWarning: A column-vector y was passed when a 1d array was expected. Please change the shape of y to (n_samples, ), for example using ravel().\n",
      "  return f(**kwargs)\n",
      "/Users/liliandanielasuarezriveros/opt/anaconda3/envs/myenv/lib/python3.7/site-packages/sklearn/utils/validation.py:72: DataConversionWarning: A column-vector y was passed when a 1d array was expected. Please change the shape of y to (n_samples, ), for example using ravel().\n",
      "  return f(**kwargs)\n",
      "/Users/liliandanielasuarezriveros/opt/anaconda3/envs/myenv/lib/python3.7/site-packages/sklearn/utils/validation.py:72: DataConversionWarning: A column-vector y was passed when a 1d array was expected. Please change the shape of y to (n_samples, ), for example using ravel().\n",
      "  return f(**kwargs)\n",
      "/Users/liliandanielasuarezriveros/opt/anaconda3/envs/myenv/lib/python3.7/site-packages/sklearn/utils/validation.py:72: DataConversionWarning: A column-vector y was passed when a 1d array was expected. Please change the shape of y to (n_samples, ), for example using ravel().\n",
      "  return f(**kwargs)\n"
     ]
    }
   ],
   "source": [
    "svm1_1 = SVR(kernel = 'poly', degree = 3).fit(X_train, y_train1)\n",
    "svm2_1 = SVR(kernel = 'poly', degree = 3).fit(X_train, y_train2)\n",
    "svm3_1 = SVR(kernel = 'poly', degree = 3).fit(X_train, y_train3)\n",
    "svm4_1 = SVR(kernel = 'poly', degree = 3).fit(X_train, y_train4)\n",
    "svm5_1 = SVR(kernel = 'poly', degree = 3).fit(X_train, y_train5)"
   ]
  },
  {
   "cell_type": "code",
   "execution_count": 74,
   "metadata": {},
   "outputs": [],
   "source": [
    "svm_pred1_12 = svm1_1.predict(X_test) \n",
    "svm_pred2_12 = svm2_1.predict(X_test) \n",
    "svm_pred3_12 = svm3_1.predict(X_test) \n",
    "svm_pred4_12 = svm4_1.predict(X_test) \n",
    "svm_pred5_12 = svm5_1.predict(X_test) "
   ]
  },
  {
   "cell_type": "code",
   "execution_count": 75,
   "metadata": {},
   "outputs": [],
   "source": [
    "# MAPE\n",
    "svm_1_rs1_2 = np.mean(np.abs((y_test1  - svm_pred1_12) / y_test1)) * 100\n",
    "svm_1_rs2_2 = np.mean(np.abs((y_test2  - svm_pred2_12) / y_test2)) * 100\n",
    "svm_1_rs3_2 = np.mean(np.abs((y_test3  - svm_pred3_12) / y_test3)) * 100\n",
    "svm_1_rs4_2 = np.mean(np.abs((y_test4  - svm_pred4_12) / y_test4)) * 100\n",
    "svm_1_rs5_2 = np.mean(np.abs((y_test5  - svm_pred5_12) / y_test5)) * 100"
   ]
  },
  {
   "cell_type": "code",
   "execution_count": 76,
   "metadata": {},
   "outputs": [],
   "source": [
    "# Error medio cuadratico\n",
    "#svm_1_rs1_2 = math.sqrt(mean_squared_error(y_test1, svm_pred1_12))\n",
    "#svm_1_rs2_2 = math.sqrt(mean_squared_error(y_test2, svm_pred2_12))\n",
    "#svm_1_rs3_2 = math.sqrt(mean_squared_error(y_test3, svm_pred3_12))\n",
    "#svm_1_rs4_2 = math.sqrt(mean_squared_error(y_test4, svm_pred4_12))\n",
    "#svm_1_rs5_2 = math.sqrt(mean_squared_error(y_test5, svm_pred5_12))"
   ]
  },
  {
   "cell_type": "code",
   "execution_count": 77,
   "metadata": {},
   "outputs": [],
   "source": [
    "import numpy as np\n",
    "m_error_2 = pd.DataFrame(np.array([[lin_rs1_2,lin_rs2_2,lin_rs3_2,lin_rs4_2,lin_rs5_2],\n",
    "                                [rf_rs1_2,rf_rs2_2,rf_rs3_2,rf_rs4_2,rf_rs5_2],[svm_rs1_2,svm_rs2_2,svm_rs3_2,svm_rs4_2,svm_rs5_2],\n",
    "                                [svm_1_rs1_2,svm_1_rs2_2,svm_1_rs3_2,svm_1_rs4_2,svm_1_rs5_2]]))  "
   ]
  },
  {
   "cell_type": "code",
   "execution_count": 78,
   "metadata": {},
   "outputs": [],
   "source": [
    "m_error_2.columns = ['Demanda_X5','Demanda_X10','Demanda_X18','Demanda_X21','Demanda_X23']\n",
    "m_error_2.rename(index = {0: 'Lineal', 1: 'Random Forest', 2: 'SVM2', 3: 'SVM3'}, inplace = True)"
   ]
  },
  {
   "cell_type": "markdown",
   "metadata": {},
   "source": [
    "####  Para cluster 3"
   ]
  },
  {
   "cell_type": "code",
   "execution_count": 79,
   "metadata": {},
   "outputs": [],
   "source": [
    "# Datos a predecir\n",
    "r1_3 = data_3[['Demanda_X5']]\n",
    "r2_3 = data_3[['Demanda_X10']]\n",
    "r3_3 = data_3[['Demanda_X18']]\n",
    "r4_3 = data_3[['Demanda_X21']]\n",
    "r5_3 = data_3[['Demanda_X23']]"
   ]
  },
  {
   "cell_type": "code",
   "execution_count": 80,
   "metadata": {},
   "outputs": [],
   "source": [
    "# Datos para entrenar\n",
    "data_3 = data_3[['dia', 'mes', 'Cluster_Nuevo', 'Demanda_X0', 'Demanda_X1',\n",
    "       'Demanda_X2', 'Demanda_X3']]"
   ]
  },
  {
   "cell_type": "code",
   "execution_count": 81,
   "metadata": {},
   "outputs": [],
   "source": [
    "# Separar.\n",
    "from sklearn.model_selection import train_test_split\n",
    "X_train, X_test, y_train1, y_test1, y_train2, y_test2, y_train3 , y_test3, y_train4, y_test4, y_train5, y_test5 = train_test_split(data_3, r1_3, r2_3,\n",
    "                        r3_3, r4_3, r5_3, test_size=0.25, random_state=1)"
   ]
  },
  {
   "cell_type": "code",
   "execution_count": 82,
   "metadata": {},
   "outputs": [],
   "source": [
    "y_test1 = np.array(y_test1)\n",
    "y_test2 = np.array(y_test2)\n",
    "y_test3 = np.array(y_test3)\n",
    "y_test4 = np.array(y_test4)\n",
    "y_test5 = np.array(y_test5)"
   ]
  },
  {
   "cell_type": "code",
   "execution_count": 83,
   "metadata": {},
   "outputs": [],
   "source": [
    "# Escalar\n",
    "from sklearn.preprocessing import StandardScaler\n",
    "scaler = StandardScaler().fit(X_train)\n",
    "X_train = scaler.transform(X_train)\n",
    "X_test = scaler.transform(X_test)"
   ]
  },
  {
   "cell_type": "markdown",
   "metadata": {},
   "source": [
    "##### Modelo de regresion lineal"
   ]
  },
  {
   "cell_type": "code",
   "execution_count": 84,
   "metadata": {},
   "outputs": [],
   "source": [
    "from sklearn.linear_model import LinearRegression\n",
    "lin_mdl1 = LinearRegression()\n",
    "lin_mdl2 = LinearRegression()\n",
    "lin_mdl3 = LinearRegression()\n",
    "lin_mdl4 = LinearRegression()\n",
    "lin_mdl5 = LinearRegression()"
   ]
  },
  {
   "cell_type": "code",
   "execution_count": 85,
   "metadata": {},
   "outputs": [
    {
     "data": {
      "text/plain": [
       "LinearRegression()"
      ]
     },
     "execution_count": 85,
     "metadata": {},
     "output_type": "execute_result"
    }
   ],
   "source": [
    "from sklearn.metrics import mean_squared_error\n",
    "import math\n",
    "lin_mdl1.fit(X_train, y_train1)             \n",
    "lin_mdl2.fit(X_train, y_train2)  \n",
    "lin_mdl3.fit(X_train, y_train3)  \n",
    "lin_mdl4.fit(X_train, y_train4)  \n",
    "lin_mdl5.fit(X_train, y_train5)  "
   ]
  },
  {
   "cell_type": "code",
   "execution_count": 86,
   "metadata": {},
   "outputs": [],
   "source": [
    "# Predecir\n",
    "lin_pred1_3 = lin_mdl1.predict(X_test) \n",
    "lin_pred2_3 = lin_mdl2.predict(X_test) \n",
    "lin_pred3_3 = lin_mdl3.predict(X_test) \n",
    "lin_pred4_3 = lin_mdl4.predict(X_test) \n",
    "lin_pred5_3 = lin_mdl5.predict(X_test) "
   ]
  },
  {
   "cell_type": "code",
   "execution_count": 87,
   "metadata": {},
   "outputs": [],
   "source": [
    "# MAPE\n",
    "lin_rs1_3 = np.mean(np.abs((y_test1  - lin_pred1_3) / y_test1)) * 100\n",
    "lin_rs2_3 = np.mean(np.abs((y_test2  - lin_pred2_3) / y_test2)) * 100\n",
    "lin_rs3_3 = np.mean(np.abs((y_test3  - lin_pred3_3) / y_test3)) * 100\n",
    "lin_rs4_3 = np.mean(np.abs((y_test4  - lin_pred4_3) / y_test4)) * 100\n",
    "lin_rs5_3 = np.mean(np.abs((y_test5  - lin_pred5_3) / y_test5)) * 100"
   ]
  },
  {
   "cell_type": "code",
   "execution_count": 88,
   "metadata": {},
   "outputs": [],
   "source": [
    "# Error medio cuadratico\n",
    "#lin_rs1_3 = math.sqrt(mean_squared_error(y_test1, lin_pred1_3))\n",
    "#lin_rs2_3 = math.sqrt(mean_squared_error(y_test2, lin_pred2_3))\n",
    "#lin_rs3_3 = math.sqrt(mean_squared_error(y_test3, lin_pred3_3))\n",
    "#lin_rs4_3 = math.sqrt(mean_squared_error(y_test4, lin_pred4_3))\n",
    "#lin_rs5_3 = math.sqrt(mean_squared_error(y_test5, lin_pred5_3))"
   ]
  },
  {
   "cell_type": "markdown",
   "metadata": {},
   "source": [
    "##### Modelo de Random Forest"
   ]
  },
  {
   "cell_type": "code",
   "execution_count": 89,
   "metadata": {},
   "outputs": [
    {
     "name": "stderr",
     "output_type": "stream",
     "text": [
      "/Users/liliandanielasuarezriveros/opt/anaconda3/envs/myenv/lib/python3.7/site-packages/ipykernel_launcher.py:2: DataConversionWarning: A column-vector y was passed when a 1d array was expected. Please change the shape of y to (n_samples,), for example using ravel().\n",
      "  \n",
      "/Users/liliandanielasuarezriveros/opt/anaconda3/envs/myenv/lib/python3.7/site-packages/ipykernel_launcher.py:3: DataConversionWarning: A column-vector y was passed when a 1d array was expected. Please change the shape of y to (n_samples,), for example using ravel().\n",
      "  This is separate from the ipykernel package so we can avoid doing imports until\n",
      "/Users/liliandanielasuarezriveros/opt/anaconda3/envs/myenv/lib/python3.7/site-packages/ipykernel_launcher.py:4: DataConversionWarning: A column-vector y was passed when a 1d array was expected. Please change the shape of y to (n_samples,), for example using ravel().\n",
      "  after removing the cwd from sys.path.\n",
      "/Users/liliandanielasuarezriveros/opt/anaconda3/envs/myenv/lib/python3.7/site-packages/ipykernel_launcher.py:5: DataConversionWarning: A column-vector y was passed when a 1d array was expected. Please change the shape of y to (n_samples,), for example using ravel().\n",
      "  \"\"\"\n",
      "/Users/liliandanielasuarezriveros/opt/anaconda3/envs/myenv/lib/python3.7/site-packages/ipykernel_launcher.py:6: DataConversionWarning: A column-vector y was passed when a 1d array was expected. Please change the shape of y to (n_samples,), for example using ravel().\n",
      "  \n"
     ]
    }
   ],
   "source": [
    "from sklearn.ensemble import RandomForestRegressor\n",
    "rf_1 = RandomForestRegressor().fit(X_train, y_train1)\n",
    "rf_2 = RandomForestRegressor().fit(X_train, y_train2)\n",
    "rf_3 = RandomForestRegressor().fit(X_train, y_train3)\n",
    "rf_4 = RandomForestRegressor().fit(X_train, y_train4)\n",
    "rf_5 = RandomForestRegressor().fit(X_train, y_train5)"
   ]
  },
  {
   "cell_type": "code",
   "execution_count": 90,
   "metadata": {},
   "outputs": [],
   "source": [
    "rf_pred1_3 = rf_1.predict(X_test) \n",
    "rf_pred2_3 = rf_2.predict(X_test) \n",
    "rf_pred3_3 = rf_3.predict(X_test) \n",
    "rf_pred4_3 = rf_4.predict(X_test) \n",
    "rf_pred5_3 = rf_5.predict(X_test) "
   ]
  },
  {
   "cell_type": "code",
   "execution_count": 91,
   "metadata": {},
   "outputs": [],
   "source": [
    "# MAPE\n",
    "rf_rs1_3 = np.mean(np.abs((y_test1  - rf_pred1_3) / y_test1)) * 100\n",
    "rf_rs2_3 = np.mean(np.abs((y_test2  - rf_pred2_3) / y_test2)) * 100\n",
    "rf_rs3_3 = np.mean(np.abs((y_test3  - rf_pred3_3) / y_test3)) * 100\n",
    "rf_rs4_3 = np.mean(np.abs((y_test4  - rf_pred4_3) / y_test4)) * 100\n",
    "rf_rs5_3 = np.mean(np.abs((y_test5  - rf_pred5_3) / y_test5)) * 100"
   ]
  },
  {
   "cell_type": "code",
   "execution_count": 92,
   "metadata": {},
   "outputs": [],
   "source": [
    "# Error medio cuadratico\n",
    "#rf_rs1_3 = math.sqrt(mean_squared_error(y_test1, rf_pred1_3))\n",
    "#rf_rs2_3 = math.sqrt(mean_squared_error(y_test2, rf_pred2_3))\n",
    "#rf_rs3_3 = math.sqrt(mean_squared_error(y_test3, rf_pred3_3))\n",
    "#rf_rs4_3 = math.sqrt(mean_squared_error(y_test4, rf_pred4_3))\n",
    "#rf_rs5_3 = math.sqrt(mean_squared_error(y_test5, rf_pred5_3))"
   ]
  },
  {
   "cell_type": "markdown",
   "metadata": {},
   "source": [
    "##### Modelo de maquinas de vectores de soporte grado 3"
   ]
  },
  {
   "cell_type": "code",
   "execution_count": 93,
   "metadata": {},
   "outputs": [
    {
     "name": "stderr",
     "output_type": "stream",
     "text": [
      "/Users/liliandanielasuarezriveros/opt/anaconda3/envs/myenv/lib/python3.7/site-packages/sklearn/utils/validation.py:72: DataConversionWarning: A column-vector y was passed when a 1d array was expected. Please change the shape of y to (n_samples, ), for example using ravel().\n",
      "  return f(**kwargs)\n",
      "/Users/liliandanielasuarezriveros/opt/anaconda3/envs/myenv/lib/python3.7/site-packages/sklearn/utils/validation.py:72: DataConversionWarning: A column-vector y was passed when a 1d array was expected. Please change the shape of y to (n_samples, ), for example using ravel().\n",
      "  return f(**kwargs)\n",
      "/Users/liliandanielasuarezriveros/opt/anaconda3/envs/myenv/lib/python3.7/site-packages/sklearn/utils/validation.py:72: DataConversionWarning: A column-vector y was passed when a 1d array was expected. Please change the shape of y to (n_samples, ), for example using ravel().\n",
      "  return f(**kwargs)\n",
      "/Users/liliandanielasuarezriveros/opt/anaconda3/envs/myenv/lib/python3.7/site-packages/sklearn/utils/validation.py:72: DataConversionWarning: A column-vector y was passed when a 1d array was expected. Please change the shape of y to (n_samples, ), for example using ravel().\n",
      "  return f(**kwargs)\n",
      "/Users/liliandanielasuarezriveros/opt/anaconda3/envs/myenv/lib/python3.7/site-packages/sklearn/utils/validation.py:72: DataConversionWarning: A column-vector y was passed when a 1d array was expected. Please change the shape of y to (n_samples, ), for example using ravel().\n",
      "  return f(**kwargs)\n"
     ]
    }
   ],
   "source": [
    "from sklearn.svm import SVR\n",
    "svm1 = SVR(kernel = 'poly', degree = 2).fit(X_train, y_train1)\n",
    "svm2 = SVR(kernel = 'poly', degree = 2).fit(X_train, y_train2)\n",
    "svm3 = SVR(kernel = 'poly', degree = 2).fit(X_train, y_train3)\n",
    "svm4 = SVR(kernel = 'poly', degree = 2).fit(X_train, y_train4)\n",
    "svm5 = SVR(kernel = 'poly', degree = 2).fit(X_train, y_train5)"
   ]
  },
  {
   "cell_type": "code",
   "execution_count": 94,
   "metadata": {},
   "outputs": [],
   "source": [
    "svm_pred1_3 = svm1.predict(X_test) \n",
    "svm_pred2_3 = svm2.predict(X_test) \n",
    "svm_pred3_3 = svm3.predict(X_test) \n",
    "svm_pred4_3 = svm4.predict(X_test) \n",
    "svm_pred5_3 = svm5.predict(X_test)"
   ]
  },
  {
   "cell_type": "code",
   "execution_count": 95,
   "metadata": {},
   "outputs": [],
   "source": [
    "# MAPE\n",
    "svm_rs1_3 = np.mean(np.abs((y_test1  - svm_pred1_3) / y_test1)) * 100\n",
    "svm_rs2_3 = np.mean(np.abs((y_test2  - svm_pred2_3) / y_test2)) * 100\n",
    "svm_rs3_3 = np.mean(np.abs((y_test3  - svm_pred3_3) / y_test3)) * 100\n",
    "svm_rs4_3 = np.mean(np.abs((y_test4  - svm_pred4_3) / y_test4)) * 100\n",
    "svm_rs5_3 = np.mean(np.abs((y_test5  - svm_pred5_3) / y_test5)) * 100"
   ]
  },
  {
   "cell_type": "code",
   "execution_count": 96,
   "metadata": {},
   "outputs": [],
   "source": [
    "# Error medio cuadratico\n",
    "#svm_rs1_3 = math.sqrt(mean_squared_error(y_test1, svm_pred1_3))\n",
    "#svm_rs2_3 = math.sqrt(mean_squared_error(y_test2, svm_pred2_3))\n",
    "#svm_rs3_3 = math.sqrt(mean_squared_error(y_test3, svm_pred3_3))\n",
    "#svm_rs4_3 = math.sqrt(mean_squared_error(y_test4, svm_pred4_3))\n",
    "#svm_rs5_3 = math.sqrt(mean_squared_error(y_test5, svm_pred5_3))"
   ]
  },
  {
   "cell_type": "markdown",
   "metadata": {},
   "source": [
    "##### Modelo de maquinas de vectores de soporte grado 3"
   ]
  },
  {
   "cell_type": "code",
   "execution_count": 97,
   "metadata": {},
   "outputs": [
    {
     "name": "stderr",
     "output_type": "stream",
     "text": [
      "/Users/liliandanielasuarezriveros/opt/anaconda3/envs/myenv/lib/python3.7/site-packages/sklearn/utils/validation.py:72: DataConversionWarning: A column-vector y was passed when a 1d array was expected. Please change the shape of y to (n_samples, ), for example using ravel().\n",
      "  return f(**kwargs)\n",
      "/Users/liliandanielasuarezriveros/opt/anaconda3/envs/myenv/lib/python3.7/site-packages/sklearn/utils/validation.py:72: DataConversionWarning: A column-vector y was passed when a 1d array was expected. Please change the shape of y to (n_samples, ), for example using ravel().\n",
      "  return f(**kwargs)\n",
      "/Users/liliandanielasuarezriveros/opt/anaconda3/envs/myenv/lib/python3.7/site-packages/sklearn/utils/validation.py:72: DataConversionWarning: A column-vector y was passed when a 1d array was expected. Please change the shape of y to (n_samples, ), for example using ravel().\n",
      "  return f(**kwargs)\n",
      "/Users/liliandanielasuarezriveros/opt/anaconda3/envs/myenv/lib/python3.7/site-packages/sklearn/utils/validation.py:72: DataConversionWarning: A column-vector y was passed when a 1d array was expected. Please change the shape of y to (n_samples, ), for example using ravel().\n",
      "  return f(**kwargs)\n",
      "/Users/liliandanielasuarezriveros/opt/anaconda3/envs/myenv/lib/python3.7/site-packages/sklearn/utils/validation.py:72: DataConversionWarning: A column-vector y was passed when a 1d array was expected. Please change the shape of y to (n_samples, ), for example using ravel().\n",
      "  return f(**kwargs)\n"
     ]
    }
   ],
   "source": [
    "svm1_1 = SVR(kernel = 'poly', degree = 3).fit(X_train, y_train1)\n",
    "svm2_1 = SVR(kernel = 'poly', degree = 3).fit(X_train, y_train2)\n",
    "svm3_1 = SVR(kernel = 'poly', degree = 3).fit(X_train, y_train3)\n",
    "svm4_1 = SVR(kernel = 'poly', degree = 3).fit(X_train, y_train4)\n",
    "svm5_1 = SVR(kernel = 'poly', degree = 3).fit(X_train, y_train5)"
   ]
  },
  {
   "cell_type": "code",
   "execution_count": 98,
   "metadata": {},
   "outputs": [],
   "source": [
    "svm_pred1_13 = svm1_1.predict(X_test) \n",
    "svm_pred2_13 = svm2_1.predict(X_test) \n",
    "svm_pred3_13 = svm3_1.predict(X_test) \n",
    "svm_pred4_13 = svm4_1.predict(X_test) \n",
    "svm_pred5_13 = svm5_1.predict(X_test) "
   ]
  },
  {
   "cell_type": "code",
   "execution_count": 99,
   "metadata": {},
   "outputs": [],
   "source": [
    "# MAPE\n",
    "svm_1_rs1_3 = np.mean(np.abs((y_test1  - svm_pred1_13) / y_test1)) * 100\n",
    "svm_1_rs2_3 = np.mean(np.abs((y_test2  - svm_pred2_13) / y_test2)) * 100\n",
    "svm_1_rs3_3 = np.mean(np.abs((y_test3  - svm_pred3_13) / y_test3)) * 100\n",
    "svm_1_rs4_3 = np.mean(np.abs((y_test4  - svm_pred4_13) / y_test4)) * 100\n",
    "svm_1_rs5_3 = np.mean(np.abs((y_test5  - svm_pred5_13) / y_test5)) * 100"
   ]
  },
  {
   "cell_type": "code",
   "execution_count": 100,
   "metadata": {},
   "outputs": [],
   "source": [
    "# Error medio cuadratico\n",
    "#svm_1_rs1_3 = math.sqrt(mean_squared_error(y_test1, svm_pred1_13))\n",
    "#svm_1_rs2_3 = math.sqrt(mean_squared_error(y_test2, svm_pred2_13))\n",
    "#svm_1_rs3_3 = math.sqrt(mean_squared_error(y_test3, svm_pred3_13))\n",
    "#svm_1_rs4_3 = math.sqrt(mean_squared_error(y_test4, svm_pred4_13))\n",
    "#svm_1_rs5_3 = math.sqrt(mean_squared_error(y_test5, svm_pred5_13))"
   ]
  },
  {
   "cell_type": "code",
   "execution_count": 101,
   "metadata": {},
   "outputs": [],
   "source": [
    "import numpy as np\n",
    "m_error_3 = pd.DataFrame(np.array([[lin_rs1_3,lin_rs2_3,lin_rs3_3,lin_rs4_3,lin_rs5_3],\n",
    "                                [rf_rs1_3,rf_rs2_3,rf_rs3_3,rf_rs4_3,rf_rs5_3],[svm_rs1_3,svm_rs2_3,svm_rs3_3,svm_rs4_3,svm_rs5_3],\n",
    "                                [svm_1_rs1_3,svm_1_rs2_3,svm_1_rs3_3,svm_1_rs4_3,svm_1_rs5_3]]))  "
   ]
  },
  {
   "cell_type": "code",
   "execution_count": 102,
   "metadata": {},
   "outputs": [],
   "source": [
    "m_error_3.columns = ['Demanda_X5','Demanda_X10','Demanda_X18','Demanda_X21','Demanda_X23']\n",
    "m_error_3.rename(index = {0: 'Lineal', 1: 'Random Forest', 2: 'SVM2', 3: 'SVM3'}, inplace = True)"
   ]
  },
  {
   "cell_type": "code",
   "execution_count": 103,
   "metadata": {},
   "outputs": [
    {
     "data": {
      "text/html": [
       "<div>\n",
       "<style scoped>\n",
       "    .dataframe tbody tr th:only-of-type {\n",
       "        vertical-align: middle;\n",
       "    }\n",
       "\n",
       "    .dataframe tbody tr th {\n",
       "        vertical-align: top;\n",
       "    }\n",
       "\n",
       "    .dataframe thead th {\n",
       "        text-align: right;\n",
       "    }\n",
       "</style>\n",
       "<table border=\"1\" class=\"dataframe\">\n",
       "  <thead>\n",
       "    <tr style=\"text-align: right;\">\n",
       "      <th></th>\n",
       "      <th>Demanda_X5</th>\n",
       "      <th>Demanda_X10</th>\n",
       "      <th>Demanda_X18</th>\n",
       "      <th>Demanda_X21</th>\n",
       "      <th>Demanda_X23</th>\n",
       "    </tr>\n",
       "  </thead>\n",
       "  <tbody>\n",
       "    <tr>\n",
       "      <th>Lineal</th>\n",
       "      <td>1.551559</td>\n",
       "      <td>2.495556</td>\n",
       "      <td>1.987651</td>\n",
       "      <td>1.947781</td>\n",
       "      <td>1.639119</td>\n",
       "    </tr>\n",
       "    <tr>\n",
       "      <th>Random Forest</th>\n",
       "      <td>8.246854</td>\n",
       "      <td>9.747286</td>\n",
       "      <td>7.669149</td>\n",
       "      <td>5.910257</td>\n",
       "      <td>4.677247</td>\n",
       "    </tr>\n",
       "    <tr>\n",
       "      <th>SVM2</th>\n",
       "      <td>6.705681</td>\n",
       "      <td>7.323315</td>\n",
       "      <td>5.793265</td>\n",
       "      <td>4.784316</td>\n",
       "      <td>3.629877</td>\n",
       "    </tr>\n",
       "    <tr>\n",
       "      <th>SVM3</th>\n",
       "      <td>6.703352</td>\n",
       "      <td>7.323420</td>\n",
       "      <td>5.793380</td>\n",
       "      <td>4.784376</td>\n",
       "      <td>3.629846</td>\n",
       "    </tr>\n",
       "  </tbody>\n",
       "</table>\n",
       "</div>"
      ],
      "text/plain": [
       "               Demanda_X5  Demanda_X10  Demanda_X18  Demanda_X21  Demanda_X23\n",
       "Lineal           1.551559     2.495556     1.987651     1.947781     1.639119\n",
       "Random Forest    8.246854     9.747286     7.669149     5.910257     4.677247\n",
       "SVM2             6.705681     7.323315     5.793265     4.784316     3.629877\n",
       "SVM3             6.703352     7.323420     5.793380     4.784376     3.629846"
      ]
     },
     "execution_count": 103,
     "metadata": {},
     "output_type": "execute_result"
    }
   ],
   "source": [
    "m_error"
   ]
  },
  {
   "cell_type": "code",
   "execution_count": 104,
   "metadata": {},
   "outputs": [
    {
     "data": {
      "text/html": [
       "<div>\n",
       "<style scoped>\n",
       "    .dataframe tbody tr th:only-of-type {\n",
       "        vertical-align: middle;\n",
       "    }\n",
       "\n",
       "    .dataframe tbody tr th {\n",
       "        vertical-align: top;\n",
       "    }\n",
       "\n",
       "    .dataframe thead th {\n",
       "        text-align: right;\n",
       "    }\n",
       "</style>\n",
       "<table border=\"1\" class=\"dataframe\">\n",
       "  <thead>\n",
       "    <tr style=\"text-align: right;\">\n",
       "      <th></th>\n",
       "      <th>Demanda_X5</th>\n",
       "      <th>Demanda_X10</th>\n",
       "      <th>Demanda_X18</th>\n",
       "      <th>Demanda_X21</th>\n",
       "      <th>Demanda_X23</th>\n",
       "    </tr>\n",
       "  </thead>\n",
       "  <tbody>\n",
       "    <tr>\n",
       "      <th>Lineal</th>\n",
       "      <td>1.398329</td>\n",
       "      <td>3.340211</td>\n",
       "      <td>2.152126</td>\n",
       "      <td>1.581021</td>\n",
       "      <td>1.664989</td>\n",
       "    </tr>\n",
       "    <tr>\n",
       "      <th>Random Forest</th>\n",
       "      <td>5.757848</td>\n",
       "      <td>9.558737</td>\n",
       "      <td>5.602076</td>\n",
       "      <td>3.863709</td>\n",
       "      <td>3.761852</td>\n",
       "    </tr>\n",
       "    <tr>\n",
       "      <th>SVM2</th>\n",
       "      <td>4.558985</td>\n",
       "      <td>7.908957</td>\n",
       "      <td>4.577433</td>\n",
       "      <td>2.969839</td>\n",
       "      <td>2.791945</td>\n",
       "    </tr>\n",
       "    <tr>\n",
       "      <th>SVM3</th>\n",
       "      <td>4.559003</td>\n",
       "      <td>7.909024</td>\n",
       "      <td>4.577525</td>\n",
       "      <td>2.969840</td>\n",
       "      <td>2.791942</td>\n",
       "    </tr>\n",
       "  </tbody>\n",
       "</table>\n",
       "</div>"
      ],
      "text/plain": [
       "               Demanda_X5  Demanda_X10  Demanda_X18  Demanda_X21  Demanda_X23\n",
       "Lineal           1.398329     3.340211     2.152126     1.581021     1.664989\n",
       "Random Forest    5.757848     9.558737     5.602076     3.863709     3.761852\n",
       "SVM2             4.558985     7.908957     4.577433     2.969839     2.791945\n",
       "SVM3             4.559003     7.909024     4.577525     2.969840     2.791942"
      ]
     },
     "execution_count": 104,
     "metadata": {},
     "output_type": "execute_result"
    }
   ],
   "source": [
    "m_error_1"
   ]
  },
  {
   "cell_type": "code",
   "execution_count": 105,
   "metadata": {},
   "outputs": [
    {
     "data": {
      "text/html": [
       "<div>\n",
       "<style scoped>\n",
       "    .dataframe tbody tr th:only-of-type {\n",
       "        vertical-align: middle;\n",
       "    }\n",
       "\n",
       "    .dataframe tbody tr th {\n",
       "        vertical-align: top;\n",
       "    }\n",
       "\n",
       "    .dataframe thead th {\n",
       "        text-align: right;\n",
       "    }\n",
       "</style>\n",
       "<table border=\"1\" class=\"dataframe\">\n",
       "  <thead>\n",
       "    <tr style=\"text-align: right;\">\n",
       "      <th></th>\n",
       "      <th>Demanda_X5</th>\n",
       "      <th>Demanda_X10</th>\n",
       "      <th>Demanda_X18</th>\n",
       "      <th>Demanda_X21</th>\n",
       "      <th>Demanda_X23</th>\n",
       "    </tr>\n",
       "  </thead>\n",
       "  <tbody>\n",
       "    <tr>\n",
       "      <th>Lineal</th>\n",
       "      <td>1.643151</td>\n",
       "      <td>1.411120</td>\n",
       "      <td>1.725651</td>\n",
       "      <td>1.756631</td>\n",
       "      <td>1.834077</td>\n",
       "    </tr>\n",
       "    <tr>\n",
       "      <th>Random Forest</th>\n",
       "      <td>1.643151</td>\n",
       "      <td>1.411120</td>\n",
       "      <td>1.725651</td>\n",
       "      <td>1.756631</td>\n",
       "      <td>1.834077</td>\n",
       "    </tr>\n",
       "    <tr>\n",
       "      <th>SVM2</th>\n",
       "      <td>2.824009</td>\n",
       "      <td>2.627287</td>\n",
       "      <td>3.063034</td>\n",
       "      <td>2.254483</td>\n",
       "      <td>2.988032</td>\n",
       "    </tr>\n",
       "    <tr>\n",
       "      <th>SVM3</th>\n",
       "      <td>2.824042</td>\n",
       "      <td>2.626743</td>\n",
       "      <td>3.062919</td>\n",
       "      <td>2.254334</td>\n",
       "      <td>2.987712</td>\n",
       "    </tr>\n",
       "  </tbody>\n",
       "</table>\n",
       "</div>"
      ],
      "text/plain": [
       "               Demanda_X5  Demanda_X10  Demanda_X18  Demanda_X21  Demanda_X23\n",
       "Lineal           1.643151     1.411120     1.725651     1.756631     1.834077\n",
       "Random Forest    1.643151     1.411120     1.725651     1.756631     1.834077\n",
       "SVM2             2.824009     2.627287     3.063034     2.254483     2.988032\n",
       "SVM3             2.824042     2.626743     3.062919     2.254334     2.987712"
      ]
     },
     "execution_count": 105,
     "metadata": {},
     "output_type": "execute_result"
    }
   ],
   "source": [
    "m_error_2"
   ]
  },
  {
   "cell_type": "code",
   "execution_count": 106,
   "metadata": {},
   "outputs": [
    {
     "data": {
      "text/html": [
       "<div>\n",
       "<style scoped>\n",
       "    .dataframe tbody tr th:only-of-type {\n",
       "        vertical-align: middle;\n",
       "    }\n",
       "\n",
       "    .dataframe tbody tr th {\n",
       "        vertical-align: top;\n",
       "    }\n",
       "\n",
       "    .dataframe thead th {\n",
       "        text-align: right;\n",
       "    }\n",
       "</style>\n",
       "<table border=\"1\" class=\"dataframe\">\n",
       "  <thead>\n",
       "    <tr style=\"text-align: right;\">\n",
       "      <th></th>\n",
       "      <th>Demanda_X5</th>\n",
       "      <th>Demanda_X10</th>\n",
       "      <th>Demanda_X18</th>\n",
       "      <th>Demanda_X21</th>\n",
       "      <th>Demanda_X23</th>\n",
       "    </tr>\n",
       "  </thead>\n",
       "  <tbody>\n",
       "    <tr>\n",
       "      <th>Lineal</th>\n",
       "      <td>1.511846</td>\n",
       "      <td>0.791188</td>\n",
       "      <td>1.283765</td>\n",
       "      <td>1.354989</td>\n",
       "      <td>1.490008</td>\n",
       "    </tr>\n",
       "    <tr>\n",
       "      <th>Random Forest</th>\n",
       "      <td>2.615963</td>\n",
       "      <td>2.459622</td>\n",
       "      <td>2.749881</td>\n",
       "      <td>2.651873</td>\n",
       "      <td>3.082838</td>\n",
       "    </tr>\n",
       "    <tr>\n",
       "      <th>SVM2</th>\n",
       "      <td>1.922552</td>\n",
       "      <td>1.901316</td>\n",
       "      <td>1.995134</td>\n",
       "      <td>2.080446</td>\n",
       "      <td>2.303586</td>\n",
       "    </tr>\n",
       "    <tr>\n",
       "      <th>SVM3</th>\n",
       "      <td>1.922288</td>\n",
       "      <td>1.901320</td>\n",
       "      <td>1.995128</td>\n",
       "      <td>2.080431</td>\n",
       "      <td>2.303579</td>\n",
       "    </tr>\n",
       "  </tbody>\n",
       "</table>\n",
       "</div>"
      ],
      "text/plain": [
       "               Demanda_X5  Demanda_X10  Demanda_X18  Demanda_X21  Demanda_X23\n",
       "Lineal           1.511846     0.791188     1.283765     1.354989     1.490008\n",
       "Random Forest    2.615963     2.459622     2.749881     2.651873     3.082838\n",
       "SVM2             1.922552     1.901316     1.995134     2.080446     2.303586\n",
       "SVM3             1.922288     1.901320     1.995128     2.080431     2.303579"
      ]
     },
     "execution_count": 106,
     "metadata": {},
     "output_type": "execute_result"
    }
   ],
   "source": [
    "m_error_3"
   ]
  }
 ],
 "metadata": {
  "kernelspec": {
   "display_name": "Python 3 (ipykernel)",
   "language": "python",
   "name": "python3"
  },
  "language_info": {
   "codemirror_mode": {
    "name": "ipython",
    "version": 3
   },
   "file_extension": ".py",
   "mimetype": "text/x-python",
   "name": "python",
   "nbconvert_exporter": "python",
   "pygments_lexer": "ipython3",
   "version": "3.9.7"
  }
 },
 "nbformat": 4,
 "nbformat_minor": 4
}
